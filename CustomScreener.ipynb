{
 "cells": [
  {
   "cell_type": "markdown",
   "source": [
    "### Import Libraries, ignore warnings and set working directories"
   ],
   "metadata": {
    "collapsed": false
   },
   "id": "a5565902755df906"
  },
  {
   "cell_type": "code",
   "execution_count": 4,
   "id": "initial_id",
   "metadata": {
    "collapsed": true,
    "ExecuteTime": {
     "end_time": "2023-12-31T16:37:27.483531Z",
     "start_time": "2023-12-31T16:37:27.476948Z"
    }
   },
   "outputs": [],
   "source": [
    "import pandas as pd\n",
    "import yfinance as yf\n",
    "import os\n",
    "\n",
    "#dont show warnings\n",
    "import warnings\n",
    "warnings.filterwarnings(\"ignore\")\n",
    "\n",
    "data_directory = os.getcwd() + \"/data/\""
   ]
  },
  {
   "cell_type": "code",
   "outputs": [
    {
     "data": {
      "text/plain": "  Symbol                 Name       Sector\n0    MMM                   3M  Industrials\n1    AOS          A. O. Smith  Industrials\n2    ABT  Abbott Laboratories  Health Care\n3   ABBV               AbbVie  Health Care\n4   ABMD              Abiomed  Health Care",
      "text/html": "<div>\n<style scoped>\n    .dataframe tbody tr th:only-of-type {\n        vertical-align: middle;\n    }\n\n    .dataframe tbody tr th {\n        vertical-align: top;\n    }\n\n    .dataframe thead th {\n        text-align: right;\n    }\n</style>\n<table border=\"1\" class=\"dataframe\">\n  <thead>\n    <tr style=\"text-align: right;\">\n      <th></th>\n      <th>Symbol</th>\n      <th>Name</th>\n      <th>Sector</th>\n    </tr>\n  </thead>\n  <tbody>\n    <tr>\n      <th>0</th>\n      <td>MMM</td>\n      <td>3M</td>\n      <td>Industrials</td>\n    </tr>\n    <tr>\n      <th>1</th>\n      <td>AOS</td>\n      <td>A. O. Smith</td>\n      <td>Industrials</td>\n    </tr>\n    <tr>\n      <th>2</th>\n      <td>ABT</td>\n      <td>Abbott Laboratories</td>\n      <td>Health Care</td>\n    </tr>\n    <tr>\n      <th>3</th>\n      <td>ABBV</td>\n      <td>AbbVie</td>\n      <td>Health Care</td>\n    </tr>\n    <tr>\n      <th>4</th>\n      <td>ABMD</td>\n      <td>Abiomed</td>\n      <td>Health Care</td>\n    </tr>\n  </tbody>\n</table>\n</div>"
     },
     "execution_count": 7,
     "metadata": {},
     "output_type": "execute_result"
    }
   ],
   "source": [
    "stocks = pd.read_csv(data_directory + \"sp500.csv\")\n",
    "stocks.head()"
   ],
   "metadata": {
    "collapsed": false,
    "ExecuteTime": {
     "end_time": "2023-12-31T16:45:35.281692Z",
     "start_time": "2023-12-31T16:45:35.245909Z"
    }
   },
   "id": "10af2ea13d721007",
   "execution_count": 7
  },
  {
   "cell_type": "code",
   "outputs": [
    {
     "name": "stdout",
     "output_type": "stream",
     "text": [
      "Something went wrong with symbol ATVI\n",
      "Something went wrong with symbol ABC\n",
      "Something went wrong with symbol RE\n"
     ]
    },
    {
     "data": {
      "text/plain": "                  address1            city state         zip        country  \\\n0                3M Center      Saint Paul    MN  55144-1000  United States   \n1    11270 West Park Place       Milwaukee    WI  53224-9508  United States   \n2     100 Abbott Park Road   North Chicago    IL  60064-6400  United States   \n3    1 North Waukegan Road   North Chicago    IL  60064-6400  United States   \n4                      NaN             NaN   NaN         NaN            NaN   \n..                     ...             ...   ...         ...            ...   \n497     1441 Gardiner Lane      Louisville    KY       40213  United States   \n498       3 Overlook Point    Lincolnshire    IL       60069  United States   \n499   345 East Main Street          Warsaw    IN       46580  United States   \n500  One South Main Street  Salt Lake City    UT  84133-1109  United States   \n501          10 Sylvan Way      Parsippany    NJ       07054  United States   \n\n            phone                              website  \\\n0    651 733 1110                   https://www.3m.com   \n1    414 359 4000              https://www.aosmith.com   \n2    224 667 6100               https://www.abbott.com   \n3    847 932 7900               https://www.abbvie.com   \n4             NaN                                  NaN   \n..            ...                                  ...   \n497  502 874 8300                  https://www.yum.com   \n498  847 634 6700                https://www.zebra.com   \n499  574 373 3121         https://www.zimmerbiomet.com   \n500  801 844 7637  https://www.zionsbancorporation.com   \n501  973 822 7000               https://www.zoetis.com   \n\n                                     industry  \\\n0                               Conglomerates   \n1              Specialty Industrial Machinery   \n2                             Medical Devices   \n3                Drug Manufacturers - General   \n4                                         NaN   \n..                                        ...   \n497                               Restaurants   \n498                   Communication Equipment   \n499                           Medical Devices   \n500                          Banks - Regional   \n501  Drug Manufacturers - Specialty & Generic   \n\n                              industryKey  \\\n0                           conglomerates   \n1          specialty-industrial-machinery   \n2                         medical-devices   \n3              drug-manufacturers-general   \n4                                     NaN   \n..                                    ...   \n497                           restaurants   \n498               communication-equipment   \n499                       medical-devices   \n500                        banks-regional   \n501  drug-manufacturers-specialty-generic   \n\n                                 industryDisp  ... pegRatio targetHighPrice  \\\n0                               Conglomerates  ...      NaN             NaN   \n1              Specialty Industrial Machinery  ...     2.72            90.0   \n2                             Medical Devices  ...   -12.43           133.0   \n3                Drug Manufacturers - General  ...    -3.36           205.0   \n4                                         NaN  ...      NaN             NaN   \n..                                        ...  ...      ...             ...   \n497                               Restaurants  ...     1.78           160.0   \n498                   Communication Equipment  ...     6.15           340.0   \n499                           Medical Devices  ...     2.34           149.0   \n500                          Banks - Regional  ...    -0.30            51.0   \n501  Drug Manufacturers - Specialty & Generic  ...     3.48           255.0   \n\n    targetLowPrice targetMeanPrice  targetMedianPrice recommendationMean  \\\n0              NaN             NaN                NaN                NaN   \n1             64.0           79.10               81.0                2.7   \n2            100.0          117.65              117.0                2.0   \n3            135.0          169.54              170.0                2.3   \n4              NaN             NaN                NaN                2.8   \n..             ...             ...                ...                ...   \n497          116.0          138.10              136.0                2.4   \n498          183.0          265.67              275.0                2.4   \n499           99.0          130.33              131.0                2.6   \n500           32.0           39.65               38.0                2.8   \n501          190.0          219.00              220.0                1.8   \n\n     numberOfAnalystOpinions  earningsGrowth  fax  industrySymbol  \n0                        NaN             NaN  NaN             NaN  \n1                       10.0           0.268  NaN             NaN  \n2                       20.0           0.012  NaN             NaN  \n3                       24.0          -0.548  NaN             NaN  \n4                        NaN             NaN  NaN             NaN  \n..                       ...             ...  ...             ...  \n497                     21.0           0.281  NaN             NaN  \n498                      9.0             NaN  NaN             NaN  \n499                     24.0          -0.163  NaN             NaN  \n500                     20.0          -0.191  NaN             NaN  \n501                     12.0           0.142  NaN             NaN  \n\n[502 rows x 135 columns]",
      "text/html": "<div>\n<style scoped>\n    .dataframe tbody tr th:only-of-type {\n        vertical-align: middle;\n    }\n\n    .dataframe tbody tr th {\n        vertical-align: top;\n    }\n\n    .dataframe thead th {\n        text-align: right;\n    }\n</style>\n<table border=\"1\" class=\"dataframe\">\n  <thead>\n    <tr style=\"text-align: right;\">\n      <th></th>\n      <th>address1</th>\n      <th>city</th>\n      <th>state</th>\n      <th>zip</th>\n      <th>country</th>\n      <th>phone</th>\n      <th>website</th>\n      <th>industry</th>\n      <th>industryKey</th>\n      <th>industryDisp</th>\n      <th>...</th>\n      <th>pegRatio</th>\n      <th>targetHighPrice</th>\n      <th>targetLowPrice</th>\n      <th>targetMeanPrice</th>\n      <th>targetMedianPrice</th>\n      <th>recommendationMean</th>\n      <th>numberOfAnalystOpinions</th>\n      <th>earningsGrowth</th>\n      <th>fax</th>\n      <th>industrySymbol</th>\n    </tr>\n  </thead>\n  <tbody>\n    <tr>\n      <th>0</th>\n      <td>3M Center</td>\n      <td>Saint Paul</td>\n      <td>MN</td>\n      <td>55144-1000</td>\n      <td>United States</td>\n      <td>651 733 1110</td>\n      <td>https://www.3m.com</td>\n      <td>Conglomerates</td>\n      <td>conglomerates</td>\n      <td>Conglomerates</td>\n      <td>...</td>\n      <td>NaN</td>\n      <td>NaN</td>\n      <td>NaN</td>\n      <td>NaN</td>\n      <td>NaN</td>\n      <td>NaN</td>\n      <td>NaN</td>\n      <td>NaN</td>\n      <td>NaN</td>\n      <td>NaN</td>\n    </tr>\n    <tr>\n      <th>1</th>\n      <td>11270 West Park Place</td>\n      <td>Milwaukee</td>\n      <td>WI</td>\n      <td>53224-9508</td>\n      <td>United States</td>\n      <td>414 359 4000</td>\n      <td>https://www.aosmith.com</td>\n      <td>Specialty Industrial Machinery</td>\n      <td>specialty-industrial-machinery</td>\n      <td>Specialty Industrial Machinery</td>\n      <td>...</td>\n      <td>2.72</td>\n      <td>90.0</td>\n      <td>64.0</td>\n      <td>79.10</td>\n      <td>81.0</td>\n      <td>2.7</td>\n      <td>10.0</td>\n      <td>0.268</td>\n      <td>NaN</td>\n      <td>NaN</td>\n    </tr>\n    <tr>\n      <th>2</th>\n      <td>100 Abbott Park Road</td>\n      <td>North Chicago</td>\n      <td>IL</td>\n      <td>60064-6400</td>\n      <td>United States</td>\n      <td>224 667 6100</td>\n      <td>https://www.abbott.com</td>\n      <td>Medical Devices</td>\n      <td>medical-devices</td>\n      <td>Medical Devices</td>\n      <td>...</td>\n      <td>-12.43</td>\n      <td>133.0</td>\n      <td>100.0</td>\n      <td>117.65</td>\n      <td>117.0</td>\n      <td>2.0</td>\n      <td>20.0</td>\n      <td>0.012</td>\n      <td>NaN</td>\n      <td>NaN</td>\n    </tr>\n    <tr>\n      <th>3</th>\n      <td>1 North Waukegan Road</td>\n      <td>North Chicago</td>\n      <td>IL</td>\n      <td>60064-6400</td>\n      <td>United States</td>\n      <td>847 932 7900</td>\n      <td>https://www.abbvie.com</td>\n      <td>Drug Manufacturers - General</td>\n      <td>drug-manufacturers-general</td>\n      <td>Drug Manufacturers - General</td>\n      <td>...</td>\n      <td>-3.36</td>\n      <td>205.0</td>\n      <td>135.0</td>\n      <td>169.54</td>\n      <td>170.0</td>\n      <td>2.3</td>\n      <td>24.0</td>\n      <td>-0.548</td>\n      <td>NaN</td>\n      <td>NaN</td>\n    </tr>\n    <tr>\n      <th>4</th>\n      <td>NaN</td>\n      <td>NaN</td>\n      <td>NaN</td>\n      <td>NaN</td>\n      <td>NaN</td>\n      <td>NaN</td>\n      <td>NaN</td>\n      <td>NaN</td>\n      <td>NaN</td>\n      <td>NaN</td>\n      <td>...</td>\n      <td>NaN</td>\n      <td>NaN</td>\n      <td>NaN</td>\n      <td>NaN</td>\n      <td>NaN</td>\n      <td>2.8</td>\n      <td>NaN</td>\n      <td>NaN</td>\n      <td>NaN</td>\n      <td>NaN</td>\n    </tr>\n    <tr>\n      <th>...</th>\n      <td>...</td>\n      <td>...</td>\n      <td>...</td>\n      <td>...</td>\n      <td>...</td>\n      <td>...</td>\n      <td>...</td>\n      <td>...</td>\n      <td>...</td>\n      <td>...</td>\n      <td>...</td>\n      <td>...</td>\n      <td>...</td>\n      <td>...</td>\n      <td>...</td>\n      <td>...</td>\n      <td>...</td>\n      <td>...</td>\n      <td>...</td>\n      <td>...</td>\n      <td>...</td>\n    </tr>\n    <tr>\n      <th>497</th>\n      <td>1441 Gardiner Lane</td>\n      <td>Louisville</td>\n      <td>KY</td>\n      <td>40213</td>\n      <td>United States</td>\n      <td>502 874 8300</td>\n      <td>https://www.yum.com</td>\n      <td>Restaurants</td>\n      <td>restaurants</td>\n      <td>Restaurants</td>\n      <td>...</td>\n      <td>1.78</td>\n      <td>160.0</td>\n      <td>116.0</td>\n      <td>138.10</td>\n      <td>136.0</td>\n      <td>2.4</td>\n      <td>21.0</td>\n      <td>0.281</td>\n      <td>NaN</td>\n      <td>NaN</td>\n    </tr>\n    <tr>\n      <th>498</th>\n      <td>3 Overlook Point</td>\n      <td>Lincolnshire</td>\n      <td>IL</td>\n      <td>60069</td>\n      <td>United States</td>\n      <td>847 634 6700</td>\n      <td>https://www.zebra.com</td>\n      <td>Communication Equipment</td>\n      <td>communication-equipment</td>\n      <td>Communication Equipment</td>\n      <td>...</td>\n      <td>6.15</td>\n      <td>340.0</td>\n      <td>183.0</td>\n      <td>265.67</td>\n      <td>275.0</td>\n      <td>2.4</td>\n      <td>9.0</td>\n      <td>NaN</td>\n      <td>NaN</td>\n      <td>NaN</td>\n    </tr>\n    <tr>\n      <th>499</th>\n      <td>345 East Main Street</td>\n      <td>Warsaw</td>\n      <td>IN</td>\n      <td>46580</td>\n      <td>United States</td>\n      <td>574 373 3121</td>\n      <td>https://www.zimmerbiomet.com</td>\n      <td>Medical Devices</td>\n      <td>medical-devices</td>\n      <td>Medical Devices</td>\n      <td>...</td>\n      <td>2.34</td>\n      <td>149.0</td>\n      <td>99.0</td>\n      <td>130.33</td>\n      <td>131.0</td>\n      <td>2.6</td>\n      <td>24.0</td>\n      <td>-0.163</td>\n      <td>NaN</td>\n      <td>NaN</td>\n    </tr>\n    <tr>\n      <th>500</th>\n      <td>One South Main Street</td>\n      <td>Salt Lake City</td>\n      <td>UT</td>\n      <td>84133-1109</td>\n      <td>United States</td>\n      <td>801 844 7637</td>\n      <td>https://www.zionsbancorporation.com</td>\n      <td>Banks - Regional</td>\n      <td>banks-regional</td>\n      <td>Banks - Regional</td>\n      <td>...</td>\n      <td>-0.30</td>\n      <td>51.0</td>\n      <td>32.0</td>\n      <td>39.65</td>\n      <td>38.0</td>\n      <td>2.8</td>\n      <td>20.0</td>\n      <td>-0.191</td>\n      <td>NaN</td>\n      <td>NaN</td>\n    </tr>\n    <tr>\n      <th>501</th>\n      <td>10 Sylvan Way</td>\n      <td>Parsippany</td>\n      <td>NJ</td>\n      <td>07054</td>\n      <td>United States</td>\n      <td>973 822 7000</td>\n      <td>https://www.zoetis.com</td>\n      <td>Drug Manufacturers - Specialty &amp; Generic</td>\n      <td>drug-manufacturers-specialty-generic</td>\n      <td>Drug Manufacturers - Specialty &amp; Generic</td>\n      <td>...</td>\n      <td>3.48</td>\n      <td>255.0</td>\n      <td>190.0</td>\n      <td>219.00</td>\n      <td>220.0</td>\n      <td>1.8</td>\n      <td>12.0</td>\n      <td>0.142</td>\n      <td>NaN</td>\n      <td>NaN</td>\n    </tr>\n  </tbody>\n</table>\n<p>502 rows × 135 columns</p>\n</div>"
     },
     "execution_count": 10,
     "metadata": {},
     "output_type": "execute_result"
    }
   ],
   "source": [
    "yf_info = []\n",
    "\n",
    "for index, row in stocks.iterrows():\n",
    "    try:\n",
    "        ticker = yf.Ticker(row[\"Symbol\"])\n",
    "        yf_info.append(ticker.info)\n",
    "    except:\n",
    "        print(f'Something went wrong with symbol {row[\"Symbol\"]}')\n",
    "    \n",
    "yf_info_df = pd.DataFrame(yf_info)\n",
    "yf_info_df"
   ],
   "metadata": {
    "collapsed": false,
    "ExecuteTime": {
     "end_time": "2023-12-31T16:48:42.158696Z",
     "start_time": "2023-12-31T16:46:44.311064Z"
    }
   },
   "id": "ae0f0391d087f7bd",
   "execution_count": 10
  },
  {
   "cell_type": "markdown",
   "source": [
    "# TODO\n",
    "\n",
    "what is going on with GIT????\n",
    "put symbol and short name first in the df\n",
    "explain how to create tour ratios\n",
    "save to \n"
   ],
   "metadata": {
    "collapsed": false
   },
   "id": "ea7f28813f246a03"
  },
  {
   "cell_type": "code",
   "outputs": [],
   "source": [],
   "metadata": {
    "collapsed": false
   },
   "id": "3f8e1a95f8e4b937"
  }
 ],
 "metadata": {
  "kernelspec": {
   "display_name": "Python 3",
   "language": "python",
   "name": "python3"
  },
  "language_info": {
   "codemirror_mode": {
    "name": "ipython",
    "version": 2
   },
   "file_extension": ".py",
   "mimetype": "text/x-python",
   "name": "python",
   "nbconvert_exporter": "python",
   "pygments_lexer": "ipython2",
   "version": "2.7.6"
  }
 },
 "nbformat": 4,
 "nbformat_minor": 5
}
