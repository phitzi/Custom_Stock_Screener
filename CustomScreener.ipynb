{
 "cells": [
  {
   "cell_type": "markdown",
   "source": [
    "## Custom Stock Screener\n",
    "### Medium article  \n",
    "Import Libraries, ignore warnings and set working directories"
   ],
   "metadata": {
    "collapsed": false
   },
   "id": "a5565902755df906"
  },
  {
   "cell_type": "code",
   "execution_count": 1,
   "id": "initial_id",
   "metadata": {
    "collapsed": true,
    "ExecuteTime": {
     "end_time": "2024-01-01T11:47:48.434482Z",
     "start_time": "2024-01-01T11:47:47.104621Z"
    }
   },
   "outputs": [
    {
     "name": "stderr",
     "output_type": "stream",
     "text": [
      "/Users/phitzi/PycharmProjects/Custom_Stock_Screener/venv/lib/python3.9/site-packages/urllib3/__init__.py:34: NotOpenSSLWarning: urllib3 v2 only supports OpenSSL 1.1.1+, currently the 'ssl' module is compiled with 'LibreSSL 2.8.3'. See: https://github.com/urllib3/urllib3/issues/3020\n",
      "  warnings.warn(\n"
     ]
    }
   ],
   "source": [
    "import numpy as np\n",
    "import pandas as pd\n",
    "import yfinance as yf\n",
    "import os\n",
    "from datetime import datetime\n",
    "\n",
    "\n",
    "#dont show warnings\n",
    "import warnings\n",
    "\n",
    "warnings.filterwarnings(\"ignore\")\n",
    "\n",
    "data_directory = os.getcwd() + \"/data/\""
   ]
  },
  {
   "cell_type": "markdown",
   "source": [
    "### Read the csv file with the stocks\n",
    "\n",
    "You can add to this file any stock you want just by adding a new line in the csv file (it can be only the symbol)"
   ],
   "metadata": {
    "collapsed": false
   },
   "id": "b54df344ab8496d4"
  },
  {
   "cell_type": "code",
   "outputs": [
    {
     "data": {
      "text/plain": "  Symbol                 Name       Sector\n0    MMM                   3M  Industrials\n1    AOS          A. O. Smith  Industrials\n2    ABT  Abbott Laboratories  Health Care\n3   ABBV               AbbVie  Health Care\n4   ABMD              Abiomed  Health Care",
      "text/html": "<div>\n<style scoped>\n    .dataframe tbody tr th:only-of-type {\n        vertical-align: middle;\n    }\n\n    .dataframe tbody tr th {\n        vertical-align: top;\n    }\n\n    .dataframe thead th {\n        text-align: right;\n    }\n</style>\n<table border=\"1\" class=\"dataframe\">\n  <thead>\n    <tr style=\"text-align: right;\">\n      <th></th>\n      <th>Symbol</th>\n      <th>Name</th>\n      <th>Sector</th>\n    </tr>\n  </thead>\n  <tbody>\n    <tr>\n      <th>0</th>\n      <td>MMM</td>\n      <td>3M</td>\n      <td>Industrials</td>\n    </tr>\n    <tr>\n      <th>1</th>\n      <td>AOS</td>\n      <td>A. O. Smith</td>\n      <td>Industrials</td>\n    </tr>\n    <tr>\n      <th>2</th>\n      <td>ABT</td>\n      <td>Abbott Laboratories</td>\n      <td>Health Care</td>\n    </tr>\n    <tr>\n      <th>3</th>\n      <td>ABBV</td>\n      <td>AbbVie</td>\n      <td>Health Care</td>\n    </tr>\n    <tr>\n      <th>4</th>\n      <td>ABMD</td>\n      <td>Abiomed</td>\n      <td>Health Care</td>\n    </tr>\n  </tbody>\n</table>\n</div>"
     },
     "execution_count": 2,
     "metadata": {},
     "output_type": "execute_result"
    }
   ],
   "source": [
    "stocks = pd.read_csv(data_directory + \"sp500.csv\")\n",
    "stocks.head()"
   ],
   "metadata": {
    "collapsed": false,
    "ExecuteTime": {
     "end_time": "2024-01-01T11:47:51.299039Z",
     "start_time": "2024-01-01T11:47:51.267013Z"
    }
   },
   "id": "10af2ea13d721007",
   "execution_count": 2
  },
  {
   "cell_type": "markdown",
   "source": [
    "### Get information from Yahoo Finance\n",
    "\n",
    "Loop through the stocks and get information from Yahoo Finance\n",
    "During the loop the information of each stock will be stored in a list\n",
    "If there is an error we just print it. Most probable case is that the symbol cannot be found in yahoo finance at least the way is in our list"
   ],
   "metadata": {
    "collapsed": false
   },
   "id": "31f9417ea7d3859d"
  },
  {
   "cell_type": "code",
   "outputs": [
    {
     "name": "stdout",
     "output_type": "stream",
     "text": [
      "Something went wrong with symbol ATVI with error 404 Client Error: Not Found for url: https://query2.finance.yahoo.com/v10/finance/quoteSummary/ATVI?modules=financialData%2CquoteType%2CdefaultKeyStatistics%2CassetProfile%2CsummaryDetail&ssl=true&crumb=qf4ObopbTZ9\n",
      "Something went wrong with symbol ABC with error 404 Client Error: Not Found for url: https://query2.finance.yahoo.com/v10/finance/quoteSummary/ABC?modules=financialData%2CquoteType%2CdefaultKeyStatistics%2CassetProfile%2CsummaryDetail&ssl=true&crumb=qf4ObopbTZ9\n",
      "Something went wrong with symbol RE with error 404 Client Error: Not Found for url: https://query2.finance.yahoo.com/v10/finance/quoteSummary/RE?modules=financialData%2CquoteType%2CdefaultKeyStatistics%2CassetProfile%2CsummaryDetail&ssl=true&crumb=qf4ObopbTZ9\n",
      "There were 3 errors\n",
      "Got the information for 502 stocks\n"
     ]
    }
   ],
   "source": [
    "yf_info = []\n",
    "err_counter = 0\n",
    "\n",
    "for index, row in stocks.iterrows():\n",
    "    try:\n",
    "        ticker = yf.Ticker(row[\"Symbol\"])\n",
    "        yf_info.append(ticker.info)\n",
    "    except Exception as e:\n",
    "        print(f'Something went wrong with symbol {row[\"Symbol\"]} with error {e}')\n",
    "        err_counter += 1\n",
    "    \n",
    "yf_info_df = pd.DataFrame(yf_info)\n",
    "print(f'There were {err_counter} errors')\n",
    "print(f'Got the information for {len(yf_info_df)} stocks')"
   ],
   "metadata": {
    "collapsed": false,
    "ExecuteTime": {
     "end_time": "2024-01-01T11:49:31.670408Z",
     "start_time": "2024-01-01T11:47:55.961914Z"
    }
   },
   "id": "ae0f0391d087f7bd",
   "execution_count": 3
  },
  {
   "cell_type": "markdown",
   "source": [
    "## Work with the dataframe\n",
    "\n",
    "First we check if there are any missing values and we get the ones with the most"
   ],
   "metadata": {
    "collapsed": false
   },
   "id": "1efc68d3fe7f239"
  },
  {
   "cell_type": "code",
   "outputs": [
    {
     "name": "stdout",
     "output_type": "stream",
     "text": [
      "industrySymbol              501\n",
      "fax                         422\n",
      "address2                    382\n",
      "trailingPegRatio            141\n",
      "lastSplitDate               140\n",
      "lastSplitFactor             140\n",
      "fiveYearAvgDividendYield    120\n",
      "dividendYield               116\n",
      "dividendRate                116\n",
      "earningsGrowth               94\n",
      "dtype: int64\n"
     ]
    }
   ],
   "source": [
    "missing_values = yf_info_df.isnull().sum()\n",
    "sorted_missing_values = missing_values[missing_values > 0].sort_values(ascending=False)\n",
    "print(sorted_missing_values.head(10))\n"
   ],
   "metadata": {
    "collapsed": false,
    "ExecuteTime": {
     "end_time": "2024-01-01T11:49:43.171772Z",
     "start_time": "2024-01-01T11:49:43.157095Z"
    }
   },
   "id": "5a9b13cb5e48b6fa",
   "execution_count": 4
  },
  {
   "cell_type": "markdown",
   "source": [
    "\n",
    "\n",
    "\n",
    "### We drop all the columns that mostly contain missing values"
   ],
   "metadata": {
    "collapsed": false
   },
   "id": "fa6b19575bbd4d8f"
  },
  {
   "cell_type": "code",
   "outputs": [],
   "source": [
    "cols_to_drop = ['zip','phone','address1', 'address2','state', 'industrySymbol', 'fax']\n",
    "cols_to_drop = ['industrySymbol', 'fax', 'address2'] \n",
    "yf_info_df = yf_info_df.drop(cols_to_drop, errors='ignore', axis=1)\n",
    "yf_info_df.head()"
   ],
   "metadata": {
    "collapsed": false
   },
   "id": "15215d4583e184a3"
  },
  {
   "cell_type": "markdown",
   "source": [
    "### Now we examine the columns that exists in the dataframe"
   ],
   "metadata": {
    "collapsed": false
   },
   "id": "80ed50c74202ce5b"
  },
  {
   "cell_type": "code",
   "outputs": [
    {
     "data": {
      "text/plain": "['address1',\n 'city',\n 'state',\n 'zip',\n 'country',\n 'phone',\n 'website',\n 'industry',\n 'industryKey',\n 'industryDisp',\n 'sector',\n 'sectorKey',\n 'sectorDisp',\n 'longBusinessSummary',\n 'fullTimeEmployees',\n 'companyOfficers',\n 'auditRisk',\n 'boardRisk',\n 'compensationRisk',\n 'shareHolderRightsRisk',\n 'overallRisk',\n 'governanceEpochDate',\n 'compensationAsOfEpochDate',\n 'maxAge',\n 'priceHint',\n 'previousClose',\n 'open',\n 'dayLow',\n 'dayHigh',\n 'regularMarketPreviousClose',\n 'regularMarketOpen',\n 'regularMarketDayLow',\n 'regularMarketDayHigh',\n 'dividendRate',\n 'dividendYield',\n 'exDividendDate',\n 'payoutRatio',\n 'fiveYearAvgDividendYield',\n 'beta',\n 'forwardPE',\n 'volume',\n 'regularMarketVolume',\n 'averageVolume',\n 'averageVolume10days',\n 'averageDailyVolume10Day',\n 'bid',\n 'ask',\n 'bidSize',\n 'askSize',\n 'marketCap',\n 'fiftyTwoWeekLow',\n 'fiftyTwoWeekHigh',\n 'priceToSalesTrailing12Months',\n 'fiftyDayAverage',\n 'twoHundredDayAverage',\n 'trailingAnnualDividendRate',\n 'trailingAnnualDividendYield',\n 'currency',\n 'enterpriseValue',\n 'profitMargins',\n 'floatShares',\n 'sharesOutstanding',\n 'sharesShort',\n 'sharesShortPriorMonth',\n 'sharesShortPreviousMonthDate',\n 'dateShortInterest',\n 'sharesPercentSharesOut',\n 'heldPercentInsiders',\n 'heldPercentInstitutions',\n 'shortRatio',\n 'shortPercentOfFloat',\n 'impliedSharesOutstanding',\n 'bookValue',\n 'priceToBook',\n 'lastFiscalYearEnd',\n 'nextFiscalYearEnd',\n 'mostRecentQuarter',\n 'netIncomeToCommon',\n 'trailingEps',\n 'forwardEps',\n 'lastSplitFactor',\n 'lastSplitDate',\n 'enterpriseToRevenue',\n 'enterpriseToEbitda',\n '52WeekChange',\n 'SandP52WeekChange',\n 'lastDividendValue',\n 'lastDividendDate',\n 'exchange',\n 'quoteType',\n 'symbol',\n 'underlyingSymbol',\n 'shortName',\n 'longName',\n 'firstTradeDateEpochUtc',\n 'timeZoneFullName',\n 'timeZoneShortName',\n 'uuid',\n 'messageBoardId',\n 'gmtOffSetMilliseconds',\n 'currentPrice',\n 'recommendationKey',\n 'totalCash',\n 'totalCashPerShare',\n 'ebitda',\n 'totalDebt',\n 'quickRatio',\n 'currentRatio',\n 'totalRevenue',\n 'debtToEquity',\n 'revenuePerShare',\n 'returnOnAssets',\n 'returnOnEquity',\n 'grossProfits',\n 'freeCashflow',\n 'operatingCashflow',\n 'revenueGrowth',\n 'grossMargins',\n 'ebitdaMargins',\n 'operatingMargins',\n 'financialCurrency',\n 'trailingPegRatio',\n 'address2',\n 'trailingPE',\n 'earningsQuarterlyGrowth',\n 'pegRatio',\n 'targetHighPrice',\n 'targetLowPrice',\n 'targetMeanPrice',\n 'targetMedianPrice',\n 'recommendationMean',\n 'numberOfAnalystOpinions',\n 'earningsGrowth',\n 'fax',\n 'industrySymbol']"
     },
     "execution_count": 5,
     "metadata": {},
     "output_type": "execute_result"
    }
   ],
   "source": [
    "yf_info_df.columns.tolist()"
   ],
   "metadata": {
    "collapsed": false,
    "ExecuteTime": {
     "end_time": "2024-01-01T11:51:34.699565Z",
     "start_time": "2024-01-01T11:51:34.691506Z"
    }
   },
   "id": "fda817efd65b35ad",
   "execution_count": 5
  },
  {
   "cell_type": "markdown",
   "source": [
    "## Following the review we can drop collumns that we believe unessesary for a stock screener"
   ],
   "metadata": {
    "collapsed": false
   },
   "id": "7d0c66f5a9174ddb"
  },
  {
   "cell_type": "code",
   "outputs": [],
   "source": [
    "cols_to_drop = ['zip','phone','address1', 'state']\n",
    "yf_info_df = yf_info_df.drop(cols_to_drop, errors='ignore', axis=1)"
   ],
   "metadata": {
    "collapsed": false,
    "ExecuteTime": {
     "end_time": "2024-01-01T11:53:41.768078Z",
     "start_time": "2024-01-01T11:53:41.758556Z"
    }
   },
   "id": "9319e2d4a675bbab",
   "execution_count": 7
  },
  {
   "cell_type": "markdown",
   "source": [
    "## We will convert the epoch variables to datetime format"
   ],
   "metadata": {
    "collapsed": false
   },
   "id": "68931a1de86268c8"
  },
  {
   "cell_type": "code",
   "outputs": [],
   "source": [
    "epoch_columns = ['governanceEpochDate', 'compensationAsOfEpochDate', 'exDividendDate', 'lastSplitDate', 'lastDividendDate', 'firstTradeDateEpochUtc']\n",
    "yf_info_df[epoch_columns] = yf_info_df[epoch_columns].apply(pd.to_datetime, unit='s')\n",
    "\n",
    "# List of old column names and corresponding new column names\n",
    "epoch_columns_to_rename = ['old_col1', 'old_col2', 'old_col3']\n",
    "epoch_columns_new_name = ['new_col1', 'new_col2', 'new_col3']\n",
    "\n",
    "# Rename columns\n",
    "yf_info_df.rename(columns=dict(zip(epoch_columns_to_rename, epoch_columns_new_name)), inplace=True)"
   ],
   "metadata": {
    "collapsed": false,
    "ExecuteTime": {
     "end_time": "2024-01-01T17:23:44.184694Z",
     "start_time": "2024-01-01T17:23:44.125283Z"
    }
   },
   "id": "fe2d33a0cd12eea9",
   "execution_count": 13
  },
  {
   "cell_type": "markdown",
   "source": [
    "## Create a category columns based on Capitalization"
   ],
   "metadata": {
    "collapsed": false
   },
   "id": "4052753b2468c1c7"
  },
  {
   "cell_type": "code",
   "outputs": [
    {
     "data": {
      "text/plain": "CapCategory\nlarge    397\nmid       44\nmega      35\nsmall      2\nnano       0\nmicro      0\nName: count, dtype: int64"
     },
     "execution_count": 17,
     "metadata": {},
     "output_type": "execute_result"
    }
   ],
   "source": [
    "# Define the bins and labels for each capitalization category\n",
    "bins = [0, 50_000_000, 300_000_000, 2_000_000_000, 10_000_000_000, 200_000_000_000, float('inf')]\n",
    "labels = ['nano', 'micro', 'small', 'mid', 'large', 'mega']\n",
    "\n",
    "# Create a new column with the categorized values\n",
    "yf_info_df['CapCategory'] = pd.cut(yf_info_df['marketCap'], bins=bins, labels=labels, right=False)\n",
    "\n",
    "yf_info_df['CapCategory'].value_counts()"
   ],
   "metadata": {
    "collapsed": false,
    "ExecuteTime": {
     "end_time": "2024-01-01T17:32:09.956478Z",
     "start_time": "2024-01-01T17:32:09.941724Z"
    }
   },
   "id": "d79222fa553e18e3",
   "execution_count": 17
  },
  {
   "cell_type": "markdown",
   "source": [
    "## Calculate how close is the current price to the high and low of 52 weeks"
   ],
   "metadata": {
    "collapsed": false
   },
   "id": "94d7f35a9427fbe2"
  },
  {
   "cell_type": "code",
   "outputs": [],
   "source": [
    "yf_info_df['52WeeksCurrentPosition'] = (yf_info_df['currentPrice'] - yf_info_df['fiftyTwoWeekLow']) / (yf_info_df['fiftyTwoWeekHigh'] -yf_info_df['fiftyTwoWeekLow'])"
   ],
   "metadata": {
    "collapsed": false,
    "ExecuteTime": {
     "end_time": "2024-01-01T20:38:36.716508Z",
     "start_time": "2024-01-01T20:38:36.711670Z"
    }
   },
   "id": "844b5ec0e3a60055",
   "execution_count": 81
  },
  {
   "cell_type": "markdown",
   "source": [
    "## Calculate some metrics on the C Level executives of the company"
   ],
   "metadata": {
    "collapsed": false
   },
   "id": "bbcdd64bb61524c6"
  },
  {
   "cell_type": "code",
   "outputs": [
    {
     "data": {
      "text/plain": "  symbol               shortName  CountOfCompanyOfficers  \\\n0    MMM              3M Company                    10.0   \n1    AOS  A.O. Smith Corporation                    10.0   \n2    ABT     Abbott Laboratories                    10.0   \n3   ABBV             AbbVie Inc.                    10.0   \n4   ABMD           ABIOMED, Inc.                     NaN   \n\n   AvgAgeOfCompanyOfficers  \n0                     56.0  \n1                     57.0  \n2                     53.0  \n3                     58.0  \n4                      NaN  ",
      "text/html": "<div>\n<style scoped>\n    .dataframe tbody tr th:only-of-type {\n        vertical-align: middle;\n    }\n\n    .dataframe tbody tr th {\n        vertical-align: top;\n    }\n\n    .dataframe thead th {\n        text-align: right;\n    }\n</style>\n<table border=\"1\" class=\"dataframe\">\n  <thead>\n    <tr style=\"text-align: right;\">\n      <th></th>\n      <th>symbol</th>\n      <th>shortName</th>\n      <th>CountOfCompanyOfficers</th>\n      <th>AvgAgeOfCompanyOfficers</th>\n    </tr>\n  </thead>\n  <tbody>\n    <tr>\n      <th>0</th>\n      <td>MMM</td>\n      <td>3M Company</td>\n      <td>10.0</td>\n      <td>56.0</td>\n    </tr>\n    <tr>\n      <th>1</th>\n      <td>AOS</td>\n      <td>A.O. Smith Corporation</td>\n      <td>10.0</td>\n      <td>57.0</td>\n    </tr>\n    <tr>\n      <th>2</th>\n      <td>ABT</td>\n      <td>Abbott Laboratories</td>\n      <td>10.0</td>\n      <td>53.0</td>\n    </tr>\n    <tr>\n      <th>3</th>\n      <td>ABBV</td>\n      <td>AbbVie Inc.</td>\n      <td>10.0</td>\n      <td>58.0</td>\n    </tr>\n    <tr>\n      <th>4</th>\n      <td>ABMD</td>\n      <td>ABIOMED, Inc.</td>\n      <td>NaN</td>\n      <td>NaN</td>\n    </tr>\n  </tbody>\n</table>\n</div>"
     },
     "execution_count": 76,
     "metadata": {},
     "output_type": "execute_result"
    }
   ],
   "source": [
    "def get_company_officers(row):\n",
    "    # we check in case is not a list to return NaN and not throw an error\n",
    "    if not isinstance(row['companyOfficers'], list):\n",
    "        return None, None\n",
    "    return len(row['companyOfficers']), round(np.mean([obj['age'] for obj in row['companyOfficers'] if 'age' in obj]))\n",
    "    \n",
    "yf_info_df[['CountOfCompanyOfficers','AvgAgeOfCompanyOfficers']] = yf_info_df.apply(lambda row: pd.Series(get_company_officers(row)), axis=1)\n",
    "yf_info_df[['symbol', 'shortName', 'CountOfCompanyOfficers','AvgAgeOfCompanyOfficers']].head()"
   ],
   "metadata": {
    "collapsed": false,
    "ExecuteTime": {
     "end_time": "2024-01-01T20:08:04.898027Z",
     "start_time": "2024-01-01T20:08:04.768411Z"
    }
   },
   "id": "77d831939f887700",
   "execution_count": 76
  },
  {
   "cell_type": "markdown",
   "source": [
    "## Because yfinance does not provide a meaningfull order for the dataframe we are going to move in the beginning the collumns that makes sense to be first  \n"
   ],
   "metadata": {
    "collapsed": false
   },
   "id": "93d14c75ed7e9674"
  },
  {
   "cell_type": "code",
   "outputs": [
    {
     "data": {
      "text/plain": "  symbol               shortName       sector                        industry  \\\n0    MMM              3M Company  Industrials                   Conglomerates   \n1    AOS  A.O. Smith Corporation  Industrials  Specialty Industrial Machinery   \n2    ABT     Abbott Laboratories   Healthcare                 Medical Devices   \n3   ABBV             AbbVie Inc.   Healthcare    Drug Manufacturers - General   \n4   ABMD           ABIOMED, Inc.          NaN                             NaN   \n\n  CapCategory           city        country                  website  \\\n0       large     Saint Paul  United States       https://www.3m.com   \n1       large      Milwaukee  United States  https://www.aosmith.com   \n2       large  North Chicago  United States   https://www.abbott.com   \n3        mega  North Chicago  United States   https://www.abbvie.com   \n4       large            NaN            NaN                      NaN   \n\n                      industryKey                    industryDisp  ...  \\\n0                   conglomerates                   Conglomerates  ...   \n1  specialty-industrial-machinery  Specialty Industrial Machinery  ...   \n2                 medical-devices                 Medical Devices  ...   \n3      drug-manufacturers-general    Drug Manufacturers - General  ...   \n4                             NaN                             NaN  ...   \n\n  targetMeanPrice targetMedianPrice recommendationMean  \\\n0             NaN               NaN                NaN   \n1           79.10              81.0                2.7   \n2          117.65             117.0                2.0   \n3          169.54             170.0                2.3   \n4             NaN               NaN                2.8   \n\n   numberOfAnalystOpinions earningsGrowth  fax  industrySymbol  \\\n0                      NaN            NaN  NaN             NaN   \n1                     10.0          0.268  NaN             NaN   \n2                     20.0          0.012  NaN             NaN   \n3                     24.0         -0.548  NaN             NaN   \n4                      NaN            NaN  NaN             NaN   \n\n   CountOfCompanyOfficers  AvgAgeOfCompanyOfficers  52WeeksCurrentPosition  \n0                    10.0                     56.0                0.538047  \n1                    10.0                     57.0                0.986967  \n2                    10.0                     53.0                0.779817  \n3                    10.0                     58.0                0.646299  \n4                     NaN                      NaN                0.994018  \n\n[5 rows x 135 columns]",
      "text/html": "<div>\n<style scoped>\n    .dataframe tbody tr th:only-of-type {\n        vertical-align: middle;\n    }\n\n    .dataframe tbody tr th {\n        vertical-align: top;\n    }\n\n    .dataframe thead th {\n        text-align: right;\n    }\n</style>\n<table border=\"1\" class=\"dataframe\">\n  <thead>\n    <tr style=\"text-align: right;\">\n      <th></th>\n      <th>symbol</th>\n      <th>shortName</th>\n      <th>sector</th>\n      <th>industry</th>\n      <th>CapCategory</th>\n      <th>city</th>\n      <th>country</th>\n      <th>website</th>\n      <th>industryKey</th>\n      <th>industryDisp</th>\n      <th>...</th>\n      <th>targetMeanPrice</th>\n      <th>targetMedianPrice</th>\n      <th>recommendationMean</th>\n      <th>numberOfAnalystOpinions</th>\n      <th>earningsGrowth</th>\n      <th>fax</th>\n      <th>industrySymbol</th>\n      <th>CountOfCompanyOfficers</th>\n      <th>AvgAgeOfCompanyOfficers</th>\n      <th>52WeeksCurrentPosition</th>\n    </tr>\n  </thead>\n  <tbody>\n    <tr>\n      <th>0</th>\n      <td>MMM</td>\n      <td>3M Company</td>\n      <td>Industrials</td>\n      <td>Conglomerates</td>\n      <td>large</td>\n      <td>Saint Paul</td>\n      <td>United States</td>\n      <td>https://www.3m.com</td>\n      <td>conglomerates</td>\n      <td>Conglomerates</td>\n      <td>...</td>\n      <td>NaN</td>\n      <td>NaN</td>\n      <td>NaN</td>\n      <td>NaN</td>\n      <td>NaN</td>\n      <td>NaN</td>\n      <td>NaN</td>\n      <td>10.0</td>\n      <td>56.0</td>\n      <td>0.538047</td>\n    </tr>\n    <tr>\n      <th>1</th>\n      <td>AOS</td>\n      <td>A.O. Smith Corporation</td>\n      <td>Industrials</td>\n      <td>Specialty Industrial Machinery</td>\n      <td>large</td>\n      <td>Milwaukee</td>\n      <td>United States</td>\n      <td>https://www.aosmith.com</td>\n      <td>specialty-industrial-machinery</td>\n      <td>Specialty Industrial Machinery</td>\n      <td>...</td>\n      <td>79.10</td>\n      <td>81.0</td>\n      <td>2.7</td>\n      <td>10.0</td>\n      <td>0.268</td>\n      <td>NaN</td>\n      <td>NaN</td>\n      <td>10.0</td>\n      <td>57.0</td>\n      <td>0.986967</td>\n    </tr>\n    <tr>\n      <th>2</th>\n      <td>ABT</td>\n      <td>Abbott Laboratories</td>\n      <td>Healthcare</td>\n      <td>Medical Devices</td>\n      <td>large</td>\n      <td>North Chicago</td>\n      <td>United States</td>\n      <td>https://www.abbott.com</td>\n      <td>medical-devices</td>\n      <td>Medical Devices</td>\n      <td>...</td>\n      <td>117.65</td>\n      <td>117.0</td>\n      <td>2.0</td>\n      <td>20.0</td>\n      <td>0.012</td>\n      <td>NaN</td>\n      <td>NaN</td>\n      <td>10.0</td>\n      <td>53.0</td>\n      <td>0.779817</td>\n    </tr>\n    <tr>\n      <th>3</th>\n      <td>ABBV</td>\n      <td>AbbVie Inc.</td>\n      <td>Healthcare</td>\n      <td>Drug Manufacturers - General</td>\n      <td>mega</td>\n      <td>North Chicago</td>\n      <td>United States</td>\n      <td>https://www.abbvie.com</td>\n      <td>drug-manufacturers-general</td>\n      <td>Drug Manufacturers - General</td>\n      <td>...</td>\n      <td>169.54</td>\n      <td>170.0</td>\n      <td>2.3</td>\n      <td>24.0</td>\n      <td>-0.548</td>\n      <td>NaN</td>\n      <td>NaN</td>\n      <td>10.0</td>\n      <td>58.0</td>\n      <td>0.646299</td>\n    </tr>\n    <tr>\n      <th>4</th>\n      <td>ABMD</td>\n      <td>ABIOMED, Inc.</td>\n      <td>NaN</td>\n      <td>NaN</td>\n      <td>large</td>\n      <td>NaN</td>\n      <td>NaN</td>\n      <td>NaN</td>\n      <td>NaN</td>\n      <td>NaN</td>\n      <td>...</td>\n      <td>NaN</td>\n      <td>NaN</td>\n      <td>2.8</td>\n      <td>NaN</td>\n      <td>NaN</td>\n      <td>NaN</td>\n      <td>NaN</td>\n      <td>NaN</td>\n      <td>NaN</td>\n      <td>0.994018</td>\n    </tr>\n  </tbody>\n</table>\n<p>5 rows × 135 columns</p>\n</div>"
     },
     "execution_count": 82,
     "metadata": {},
     "output_type": "execute_result"
    }
   ],
   "source": [
    "cols_to_move_beginning = ['symbol', 'shortName', 'sector', 'industry','CapCategory']\n",
    "yf_info_df = yf_info_df[cols_to_move_beginning + [col for col in yf_info_df.columns if col not in cols_to_move_beginning]]\n",
    "yf_info_df.head()"
   ],
   "metadata": {
    "collapsed": false,
    "ExecuteTime": {
     "end_time": "2024-01-01T20:38:42.233374Z",
     "start_time": "2024-01-01T20:38:42.207545Z"
    }
   },
   "id": "b200a98ce326108c",
   "execution_count": 82
  },
  {
   "cell_type": "markdown",
   "source": [
    "## Last we save the dataframe in a csv format that we can open in an excel and examine further\n",
    "\n",
    "The csv file is saved with a prefix of the current date and time - this way you can keep track of all the information you have acquired in one place in the past\n"
   ],
   "metadata": {
    "collapsed": false
   },
   "id": "ea7f28813f246a03"
  },
  {
   "cell_type": "code",
   "outputs": [],
   "source": [
    "formatted_datetime = datetime.now().strftime('%Y%m%d%H%M')\n",
    "yf_info_df.to_csv(f'{data_directory}{formatted_datetime} Custom Screener.csv')"
   ],
   "metadata": {
    "collapsed": false,
    "ExecuteTime": {
     "end_time": "2024-01-01T20:08:28.936205Z",
     "start_time": "2024-01-01T20:08:28.797809Z"
    }
   },
   "id": "3f8e1a95f8e4b937",
   "execution_count": 78
  }
 ],
 "metadata": {
  "kernelspec": {
   "display_name": "Python 3",
   "language": "python",
   "name": "python3"
  },
  "language_info": {
   "codemirror_mode": {
    "name": "ipython",
    "version": 2
   },
   "file_extension": ".py",
   "mimetype": "text/x-python",
   "name": "python",
   "nbconvert_exporter": "python",
   "pygments_lexer": "ipython2",
   "version": "2.7.6"
  }
 },
 "nbformat": 4,
 "nbformat_minor": 5
}
