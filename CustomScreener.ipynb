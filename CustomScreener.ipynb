{
 "cells": [
  {
   "cell_type": "markdown",
   "source": [
    "## Custom Stock Screener\n",
    "\n",
    "Import Libraries, ignore warnings and set working directories"
   ],
   "metadata": {
    "collapsed": false
   },
   "id": "a5565902755df906"
  },
  {
   "cell_type": "code",
   "execution_count": null,
   "id": "initial_id",
   "metadata": {
    "collapsed": true
   },
   "outputs": [],
   "source": [
    "import numpy as np\n",
    "import pandas as pd\n",
    "import yfinance as yf\n",
    "import os\n",
    "from datetime import datetime\n",
    "\n",
    "\n",
    "#dont show warnings\n",
    "import warnings\n",
    "\n",
    "warnings.filterwarnings(\"ignore\")\n",
    "\n",
    "data_directory = os.getcwd() + \"/data/\""
   ]
  },
  {
   "cell_type": "markdown",
   "source": [
    "### Read the csv file with the stocks\n",
    "\n",
    "You can add to this file any stock you want just by adding a new line in the csv file (it can be only the symbol)"
   ],
   "metadata": {
    "collapsed": false
   },
   "id": "b54df344ab8496d4"
  },
  {
   "cell_type": "code",
   "outputs": [],
   "source": [
    "stocks = pd.read_csv(data_directory + \"sp500.csv\")\n",
    "stocks.head()"
   ],
   "metadata": {
    "collapsed": false
   },
   "id": "10af2ea13d721007",
   "execution_count": null
  },
  {
   "cell_type": "markdown",
   "source": [
    "### Get information from Yahoo Finance\n",
    "\n",
    "Loop through the stocks and get information from Yahoo Finance\n",
    "During the loop the information of each stock will be stored in a list\n",
    "If there is an error we just print it. Most probable case is that the symbol cannot be found in yahoo finance at least the way is in our list"
   ],
   "metadata": {
    "collapsed": false
   },
   "id": "31f9417ea7d3859d"
  },
  {
   "cell_type": "code",
   "outputs": [],
   "source": [
    "yf_info = []\n",
    "err_counter = 0\n",
    "\n",
    "for index, row in stocks.iterrows():\n",
    "    try:\n",
    "        ticker = yf.Ticker(row[\"Symbol\"])\n",
    "        yf_info.append(ticker.info)\n",
    "    except Exception as e:\n",
    "        print(f'Something went wrong with symbol {row[\"Symbol\"]} with error {e}')\n",
    "        err_counter += 1\n",
    "    \n",
    "screener = pd.DataFrame(yf_info)\n",
    "print(f'There were {err_counter} errors')\n",
    "print(f'Got the information for {len(screener)} stocks')"
   ],
   "metadata": {
    "collapsed": false
   },
   "id": "ae0f0391d087f7bd",
   "execution_count": null
  },
  {
   "cell_type": "markdown",
   "source": [
    "## Work with the dataframe\n",
    "\n",
    "First we check if there are any missing values and we get the ones with the most"
   ],
   "metadata": {
    "collapsed": false
   },
   "id": "1efc68d3fe7f239"
  },
  {
   "cell_type": "code",
   "outputs": [],
   "source": [
    "missing_values = screener.isnull().sum()\n",
    "sorted_missing_values = missing_values[missing_values > 0].sort_values(ascending=False)\n",
    "print(sorted_missing_values.head(10))\n"
   ],
   "metadata": {
    "collapsed": false
   },
   "id": "5a9b13cb5e48b6fa",
   "execution_count": null
  },
  {
   "cell_type": "markdown",
   "source": [
    "\n",
    "\n",
    "\n",
    "### We drop all the columns that mostly contain missing values"
   ],
   "metadata": {
    "collapsed": false
   },
   "id": "fa6b19575bbd4d8f"
  },
  {
   "cell_type": "code",
   "outputs": [],
   "source": [
    "cols_to_drop = ['zip','phone','address1', 'address2','state', 'industrySymbol', 'fax']\n",
    "screener = screener.drop(cols_to_drop, errors='ignore', axis=1)\n",
    "screener.head()"
   ],
   "metadata": {
    "collapsed": false
   },
   "id": "15215d4583e184a3",
   "execution_count": null
  },
  {
   "cell_type": "markdown",
   "source": [
    "### We also must check which stocks have the most missing values\n",
    "\n",
    "First we will get an ordered list of the number of missing values per row"
   ],
   "metadata": {
    "collapsed": false
   },
   "id": "b2230d2a4f3fa4d1"
  },
  {
   "cell_type": "code",
   "outputs": [],
   "source": [
    "screener['missing_values'] = screener.isna().sum(axis=1)\n",
    "# Sort the DataFrame based on the 'missing_values' column\n",
    "screener.sort_values(by='missing_values', ascending=False)"
   ],
   "metadata": {
    "collapsed": false
   },
   "id": "89ea88b3ad112d12",
   "execution_count": null
  },
  {
   "cell_type": "markdown",
   "source": [
    "We see that there are stocks that have a lot of missing values - we will set a threashold to 80"
   ],
   "metadata": {
    "collapsed": false
   },
   "id": "5c4c4a432df0c1c4"
  },
  {
   "cell_type": "code",
   "outputs": [],
   "source": [
    "screener = screener[screener['missing_values'] < 80]\n",
    "screener = screener.drop('missing_values', axis=1)"
   ],
   "metadata": {
    "collapsed": false
   },
   "id": "1473e501ead2011b",
   "execution_count": null
  },
  {
   "cell_type": "markdown",
   "source": [
    "### Now we examine the columns that exists in the dataframe"
   ],
   "metadata": {
    "collapsed": false
   },
   "id": "80ed50c74202ce5b"
  },
  {
   "cell_type": "code",
   "outputs": [],
   "source": [
    "screener.columns.tolist()"
   ],
   "metadata": {
    "collapsed": false
   },
   "id": "fda817efd65b35ad",
   "execution_count": null
  },
  {
   "cell_type": "markdown",
   "source": [
    "## Following the review we can drop collumns that we believe unessesary for a stock screener"
   ],
   "metadata": {
    "collapsed": false
   },
   "id": "7d0c66f5a9174ddb"
  },
  {
   "cell_type": "code",
   "outputs": [],
   "source": [
    "cols_to_drop = ['zip','phone','address1', 'state']\n",
    "screener = screener.drop(cols_to_drop, errors='ignore', axis=1)"
   ],
   "metadata": {
    "collapsed": false
   },
   "id": "9319e2d4a675bbab",
   "execution_count": null
  },
  {
   "cell_type": "markdown",
   "source": [
    "## We will convert the epoch variables to datetime format"
   ],
   "metadata": {
    "collapsed": false
   },
   "id": "68931a1de86268c8"
  },
  {
   "cell_type": "code",
   "outputs": [],
   "source": [
    "epoch_columns = ['governanceEpochDate', 'compensationAsOfEpochDate', 'exDividendDate', 'lastSplitDate', 'lastDividendDate', 'firstTradeDateEpochUtc']\n",
    "screener[epoch_columns] = screener[epoch_columns].apply(pd.to_datetime, unit='s')\n",
    "\n",
    "# List of old column names and corresponding new column names\n",
    "epoch_columns_to_rename = ['old_col1', 'old_col2', 'old_col3']\n",
    "epoch_columns_new_name = ['new_col1', 'new_col2', 'new_col3']\n",
    "\n",
    "# Rename columns\n",
    "screener.rename(columns=dict(zip(epoch_columns_to_rename, epoch_columns_new_name)), inplace=True)"
   ],
   "metadata": {
    "collapsed": false
   },
   "id": "fe2d33a0cd12eea9",
   "execution_count": null
  },
  {
   "cell_type": "markdown",
   "source": [
    "## Create a category columns based on Capitalization"
   ],
   "metadata": {
    "collapsed": false
   },
   "id": "4052753b2468c1c7"
  },
  {
   "cell_type": "code",
   "outputs": [],
   "source": [
    "# Define the bins and labels for each capitalization category\n",
    "bins = [0, 50_000_000, 300_000_000, 2_000_000_000, 10_000_000_000, 200_000_000_000, float('inf')]\n",
    "labels = ['nano', 'micro', 'small', 'mid', 'large', 'mega']\n",
    "\n",
    "# Create a new column with the categorized values\n",
    "screener['CapCategory'] = pd.cut(screener['marketCap'], bins=bins, labels=labels, right=False)\n",
    "\n",
    "screener['CapCategory'].value_counts()"
   ],
   "metadata": {
    "collapsed": false
   },
   "id": "d79222fa553e18e3",
   "execution_count": null
  },
  {
   "cell_type": "markdown",
   "source": [
    "## Calculate how close is the current price to the high and low of 52 weeks"
   ],
   "metadata": {
    "collapsed": false
   },
   "id": "94d7f35a9427fbe2"
  },
  {
   "cell_type": "code",
   "outputs": [],
   "source": [
    "screener['52WeeksCurrentPosition'] = (screener['currentPrice'] - screener['fiftyTwoWeekLow']) / (screener['fiftyTwoWeekHigh'] -screener['fiftyTwoWeekLow'])"
   ],
   "metadata": {
    "collapsed": false
   },
   "id": "844b5ec0e3a60055",
   "execution_count": null
  },
  {
   "cell_type": "markdown",
   "source": [
    "## Calculate some metrics on the C Level executives of the company"
   ],
   "metadata": {
    "collapsed": false
   },
   "id": "bbcdd64bb61524c6"
  },
  {
   "cell_type": "code",
   "outputs": [],
   "source": [
    "def get_company_officers(row):\n",
    "    # we check in case is not a list to return NaN and not throw an error\n",
    "    if not isinstance(row['companyOfficers'], list):\n",
    "        return None, None\n",
    "    return len(row['companyOfficers']), round(np.mean([obj['age'] for obj in row['companyOfficers'] if 'age' in obj and obj['age'] is not None]), 2)\n",
    "    \n",
    "screener[['CountOfCompanyOfficers','AvgAgeOfCompanyOfficers']] = screener.apply(lambda row: pd.Series(get_company_officers(row)), axis=1)\n",
    "screener[['symbol', 'shortName', 'CountOfCompanyOfficers','AvgAgeOfCompanyOfficers']].head()"
   ],
   "metadata": {
    "collapsed": false
   },
   "id": "77d831939f887700",
   "execution_count": null
  },
  {
   "cell_type": "markdown",
   "source": [
    "## Because yfinance does not provide a meaningfull order for the dataframe we are going to move in the beginning the collumns that makes sense to be first  \n"
   ],
   "metadata": {
    "collapsed": false
   },
   "id": "93d14c75ed7e9674"
  },
  {
   "cell_type": "code",
   "outputs": [],
   "source": [
    "cols_to_move_beginning = ['symbol', 'shortName', 'sector', 'industry','CapCategory']\n",
    "screener = screener[cols_to_move_beginning + [col for col in screener.columns if col not in cols_to_move_beginning]]\n",
    "screener.head()"
   ],
   "metadata": {
    "collapsed": false
   },
   "id": "b200a98ce326108c",
   "execution_count": null
  },
  {
   "cell_type": "markdown",
   "source": [
    "## Last we save the dataframe in a csv format that we can open in an excel and examine further\n",
    "\n",
    "The csv file is saved with a prefix of the current date and time - this way you can keep track of all the information you have acquired in one place in the past\n"
   ],
   "metadata": {
    "collapsed": false
   },
   "id": "ea7f28813f246a03"
  },
  {
   "cell_type": "code",
   "outputs": [],
   "source": [
    "formatted_datetime = datetime.now().strftime('%Y%m%d%H%M')\n",
    "screener.to_csv(f'{data_directory}{formatted_datetime} Custom Screener.csv', index=False)"
   ],
   "metadata": {
    "collapsed": false
   },
   "id": "3f8e1a95f8e4b937",
   "execution_count": null
  }
 ],
 "metadata": {
  "kernelspec": {
   "display_name": "Python 3",
   "language": "python",
   "name": "python3"
  },
  "language_info": {
   "codemirror_mode": {
    "name": "ipython",
    "version": 2
   },
   "file_extension": ".py",
   "mimetype": "text/x-python",
   "name": "python",
   "nbconvert_exporter": "python",
   "pygments_lexer": "ipython2",
   "version": "2.7.6"
  }
 },
 "nbformat": 4,
 "nbformat_minor": 5
}
